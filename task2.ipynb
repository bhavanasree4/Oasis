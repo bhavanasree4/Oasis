{
 "cells": [
  {
   "cell_type": "code",
   "execution_count": 1,
   "id": "b5e1f678-c3cd-4521-be71-0a7b78608d0c",
   "metadata": {},
   "outputs": [
    {
     "name": "stdin",
     "output_type": "stream",
     "text": [
      "Enter your weight in kilograms:  55\n",
      "Enter your height in meters: 2.5\n"
     ]
    },
    {
     "name": "stdout",
     "output_type": "stream",
     "text": [
      "You are underweight\n"
     ]
    }
   ],
   "source": [
    "try:\n",
    "\n",
    "    weight = float(input(\"Enter your weight in kilograms: \"))\n",
    "    height = float(input(\"Enter your height in meters:\"))\n",
    "\n",
    "\n",
    "    if weight > 0 and height > 0:\n",
    "        # Calculate BMI\n",
    "        BMI = weight / (height ** 2)\n",
    "\n",
    "    \n",
    "        if BMI <= 18.5:\n",
    "            print(\"You are underweight\")\n",
    "        elif BMI <= 25:\n",
    "            print(\"You are normal\")\n",
    "        elif BMI <= 30:\n",
    "            print(\"You are overweight\")\n",
    "        else:\n",
    "            print(\"You are very overweight\")\n",
    "    else:\n",
    "        print(\"Enter valid details (positive weight and height)\")\n",
    "except ValueError:\n",
    "    print(\"Invalid input. Please enter numeric values for weight and height.\")"
   ]
  },
  {
   "cell_type": "code",
   "execution_count": null,
   "id": "0e0af0a9-f470-4d0f-af80-ee471aa45ce1",
   "metadata": {},
   "outputs": [],
   "source": []
  }
 ],
 "metadata": {
  "kernelspec": {
   "display_name": "Python 3 (ipykernel)",
   "language": "python",
   "name": "python3"
  },
  "language_info": {
   "codemirror_mode": {
    "name": "ipython",
    "version": 3
   },
   "file_extension": ".py",
   "mimetype": "text/x-python",
   "name": "python",
   "nbconvert_exporter": "python",
   "pygments_lexer": "ipython3",
   "version": "3.12.0"
  }
 },
 "nbformat": 4,
 "nbformat_minor": 5
}
